{
 "cells": [
  {
   "cell_type": "code",
   "execution_count": 1,
   "metadata": {},
   "outputs": [],
   "source": [
    "%reload_ext autoreload\n",
    "%autoreload 2\n",
    "%matplotlib inline\n",
    "\n",
    "\n",
    "import pickle\n",
    "import numpy as np\n",
    "\n",
    "from SlideRunner.dataAccess.database import Database\n",
    "from lib.calculate_F1 import *\n",
    "from lib.extractDetections import exportCSV\n",
    "optimal_threshold, F1_values = {},{}"
   ]
  },
  {
   "cell_type": "markdown",
   "metadata": {},
   "source": [
    "## Alternative Labels (with ML-augmented labels)\n",
    "We first optimize the threshold on the train+validation set, and then run inference on the test set."
   ]
  },
  {
   "cell_type": "code",
   "execution_count": 2,
   "metadata": {},
   "outputs": [
    {
     "name": "stdout",
     "output_type": "stream",
     "text": [
      "Optimizing threshold for validation set of 73 files:  01_stitched1.tif,02_stitched1.tif,03_stitched1.tif,04_stitched1.tif,05_stitched1.tif,06_stitched1.tif,07_stitched1.tif,08_stitched1.tif,09_stitched1.tif,10_stitched1.tif,11_stitched1.tif,12_stitched1.tif,13_stitched1.tif,14_stitched1.tif,15_stitched1.tif,16_stitched1.tif,17_stitched1.tif,18_stitched1.tif,19_stitched1.tif,20_stitched1.tif,21_stitched1.tif,22_stitched1.tif,23_stitched1.tif,24.tif,25.tif,26.tif,27.tif,28.tif,29.tif,30.tif,31.tif,32.tif,33.tif,34.tif,35.tif,36.tif,37.tif,38.tif,39.tif,40.tif,41.tif,42.tif,43.tif,44.tif,45.tif,46.tif,47.tif,48.tif,49.tif,50.tif,51.tif,52.tif,53.tif,54.tif,55.tif,56.tif,57.tif,58.tif,59.tif,60.tif,61.tif,62.tif,63.tif,64.tif,65.tif,66.tif,67.tif,68.tif,69.tif,70.tif,71.tif,72.tif,73.tif\n",
      "Best threshold: F1= 0.7422266800401204 Threshold= 0.6400000000000003\n",
      "Calculating F1 for test set of 34 files : dict_keys(['74_test.tif', '75_test.tif', '76_test.tif', '77_test.tif', '78_test.tif', '79_test.tif', '80_test.tif', '81_test.tif', '82_test.tif', '83_test.tif', '84_test.tif', '85_test.tif', '86_test.tif', '87_test.tif', '88_test.tif', '89_test.tif', '90_test.tif', '91_test.tif', '92_test.tif', '93_test.tif', '94_test.tif', '95_test.tif', '96_test.tif', '97_test.tif', '98_test.tif', '99_test.tif', '100_test.tif', '101_test.tif', '102_test.tif', '103_test.tif', '104_test.tif', '105_test.tif', '106_test.tif', '107_test.tif'])\n",
      "Official count of mitotic figures in DB:  [(2260,)]\n",
      "Overall: \n",
      "F1:  0.7349397590361446\n",
      "Precision: 0.772 \n",
      "Recall: 0.701\n",
      "Calculating F1 for test set of 34 files : dict_keys(['77_test.tif', '92_test.tif', '100_test.tif', '84_test.tif', '94_test.tif', '98_test.tif', '81_test.tif', '99_test.tif', '90_test.tif', '74_test.tif', '96_test.tif', '75_test.tif', '95_test.tif', '76_test.tif', '93_test.tif', '91_test.tif', '79_test.tif', '82_test.tif', '105_test.tif', '85_test.tif', '80_test.tif', '78_test.tif', '101_test.tif', '83_test.tif', '106_test.tif', '102_test.tif', '87_test.tif', '86_test.tif', '88_test.tif', '104_test.tif', '103_test.tif', '107_test.tif', '97_test.tif', '89_test.tif'])\n",
      "Official count of mitotic figures in DB:  [(2260,)]\n",
      "Overall: \n",
      "F1:  0.7349397590361446\n",
      "Precision: 0.772 \n",
      "Recall: 0.701\n"
     ]
    }
   ],
   "source": [
    "databasefile = 'TUPAC_alternativeLabels_augmented.sqlite'\n",
    "\n",
    "resfile = 'results/RetinaNet-TUPAC_AL-OrigSplit-512s.pth-TUPAC_AL_trainval_o-inference_results_boxes.p'\n",
    "\n",
    "ident = f'TUPAC_alternativeLabels_augmented'\n",
    "\n",
    "optimal_threshold[ident], F1scores, thrs = optimize_threshold(databasefile=databasefile, minthres=0.3, hotclass=1, resfile=resfile)\n",
    "\n",
    "resfile = f'results/RetinaNet-TUPAC_AL-OrigSplit-512s.pth-TUPAC_AL_test-inference_results_boxes.p'\n",
    "\n",
    "F1_values[ident], individ = calculate_F1(databasefile=databasefile, resfile=resfile, hotclass=1, det_thres=optimal_threshold[ident])\n",
    "\n",
    "\n",
    "exportCSV(filepath='Results_TUPAC_AL', \n",
    "          resultsfile=resfile, \n",
    "          threshold=optimal_threshold[ident])\n",
    "F1value, individ_csv =calculate_F1_fromCSV(csv_directory='Results_TUPAC_AL/',hotclass=1, databasefile=databasefile)\n"
   ]
  },
  {
   "cell_type": "markdown",
   "metadata": {},
   "source": [
    "## Alternative labels (only manually found mitoses, w/o augmentation)"
   ]
  },
  {
   "cell_type": "code",
   "execution_count": 3,
   "metadata": {},
   "outputs": [
    {
     "name": "stdout",
     "output_type": "stream",
     "text": [
      "Optimizing threshold for validation set of 73 files:  01_stitched1.tif,02_stitched1.tif,03_stitched1.tif,04_stitched1.tif,05_stitched1.tif,06_stitched1.tif,07_stitched1.tif,08_stitched1.tif,09_stitched1.tif,10_stitched1.tif,11_stitched1.tif,12_stitched1.tif,13_stitched1.tif,14_stitched1.tif,15_stitched1.tif,16_stitched1.tif,17_stitched1.tif,18_stitched1.tif,19_stitched1.tif,20_stitched1.tif,21_stitched1.tif,22_stitched1.tif,23_stitched1.tif,24.tif,25.tif,26.tif,27.tif,28.tif,29.tif,30.tif,31.tif,32.tif,33.tif,34.tif,35.tif,36.tif,37.tif,38.tif,39.tif,40.tif,41.tif,42.tif,43.tif,44.tif,45.tif,46.tif,47.tif,48.tif,49.tif,50.tif,51.tif,52.tif,53.tif,54.tif,55.tif,56.tif,57.tif,58.tif,59.tif,60.tif,61.tif,62.tif,63.tif,64.tif,65.tif,66.tif,67.tif,68.tif,69.tif,70.tif,71.tif,72.tif,73.tif\n",
      "Best threshold: F1= 0.7313432835820896 Threshold= 0.6400000000000003\n",
      "Calculating F1 for test set of 34 files : dict_keys(['74_test.tif', '75_test.tif', '76_test.tif', '77_test.tif', '78_test.tif', '79_test.tif', '80_test.tif', '81_test.tif', '82_test.tif', '83_test.tif', '84_test.tif', '85_test.tif', '86_test.tif', '87_test.tif', '88_test.tif', '89_test.tif', '90_test.tif', '91_test.tif', '92_test.tif', '93_test.tif', '94_test.tif', '95_test.tif', '96_test.tif', '97_test.tif', '98_test.tif', '99_test.tif', '100_test.tif', '101_test.tif', '102_test.tif', '103_test.tif', '104_test.tif', '105_test.tif', '106_test.tif', '107_test.tif'])\n",
      "Official count of mitotic figures in DB:  [(2131,)]\n",
      "Overall: \n",
      "F1:  0.7191489361702128\n",
      "Precision: 0.713 \n",
      "Recall: 0.725\n"
     ]
    }
   ],
   "source": [
    "databasefile = 'TUPAC_alternativeLabels.sqlite'\n",
    "#databasefile = 'TUPAC_stitched.sqlite'\n",
    "\n",
    "resfile = f'results/RetinaNet-TUPAC_AL-OrigSplit-512s.pth-TUPAC_AL_trainval_o-inference_results_boxes.p'\n",
    "ident = f'CODAEL'\n",
    "\n",
    "optimal_threshold[ident], F1scores, thrs = optimize_threshold(databasefile=databasefile, minthres=0.3, hotclass=1, resfile=resfile)\n",
    "\n",
    "resfile = f'results/RetinaNet-TUPAC_AL-OrigSplit-512s.pth-TUPAC_AL_test-inference_results_boxes.p'\n",
    "\n",
    "F1_values[ident], individ = calculate_F1(databasefile=databasefile, resfile=resfile, hotclass=1, det_thres=optimal_threshold[ident])\n"
   ]
  },
  {
   "cell_type": "markdown",
   "metadata": {},
   "source": [
    "## Trained on TUPAC "
   ]
  },
  {
   "cell_type": "code",
   "execution_count": 4,
   "metadata": {},
   "outputs": [
    {
     "name": "stdout",
     "output_type": "stream",
     "text": [
      "Optimizing threshold for validation set of 73 files:  01_stitched1.tif,02_stitched1.tif,03_stitched1.tif,04_stitched1.tif,05_stitched1.tif,06_stitched1.tif,07_stitched1.tif,08_stitched1.tif,09_stitched1.tif,10_stitched1.tif,11_stitched1.tif,12_stitched1.tif,13_stitched1.tif,14_stitched1.tif,15_stitched1.tif,16_stitched1.tif,17_stitched1.tif,18_stitched1.tif,19_stitched1.tif,20_stitched1.tif,21_stitched1.tif,22_stitched1.tif,23_stitched1.tif,24.tif,25.tif,26.tif,27.tif,28.tif,29.tif,30.tif,31.tif,32.tif,33.tif,34.tif,35.tif,36.tif,37.tif,38.tif,39.tif,40.tif,41.tif,42.tif,43.tif,44.tif,45.tif,46.tif,47.tif,48.tif,49.tif,50.tif,51.tif,52.tif,53.tif,54.tif,55.tif,56.tif,57.tif,58.tif,59.tif,60.tif,61.tif,62.tif,63.tif,64.tif,65.tif,66.tif,67.tif,68.tif,69.tif,70.tif,71.tif,72.tif,73.tif\n",
      "Best threshold: F1= 0.660275319567355 Threshold= 0.4300000000000001\n",
      "Calculating F1 for test set of 34 files : dict_keys(['74_test.tif', '75_test.tif', '76_test.tif', '77_test.tif', '78_test.tif', '79_test.tif', '80_test.tif', '81_test.tif', '82_test.tif', '83_test.tif', '84_test.tif', '85_test.tif', '86_test.tif', '87_test.tif', '88_test.tif', '89_test.tif', '90_test.tif', '91_test.tif', '92_test.tif', '93_test.tif', '94_test.tif', '95_test.tif', '96_test.tif', '97_test.tif', '98_test.tif', '99_test.tif', '100_test.tif', '101_test.tif', '102_test.tif', '103_test.tif', '104_test.tif', '105_test.tif', '106_test.tif', '107_test.tif'])\n",
      "Official count of mitotic figures in DB:  [(2260,)]\n",
      "Overall: \n",
      "F1:  0.5864077669902913\n",
      "Precision: 0.594 \n",
      "Recall: 0.579\n"
     ]
    }
   ],
   "source": [
    "#databasefile = 'TUPAC CB_CB.sqlite'\n",
    "databasefile = 'TUPAC_alternativeLabels_augmented.sqlite'\n",
    "\n",
    "resfile = f'results/RetinaNet-TUPAC-OrigSplit-512s.pth-TUPAC_trainval_o-inference_results_boxes.p'#\n",
    "#resfile = 'RetinaNet-TUPAC-OrigSplit-512s.pth-TUPAC_trainval_o-inference_results_boxes.p'\n",
    "ident = f'TUPACOrig_on_ALA'\n",
    "\n",
    "optimal_threshold[ident], F1scores, thrs = optimize_threshold(databasefile=databasefile, minthres=0.3, hotclass=1, resfile=resfile)\n",
    "\n",
    "resfile = f'results/RetinaNet-TUPAC-OrigSplit-512s.pth-TUPAC_test-inference_results_boxes.p'#\n",
    "#resfile = 'RetinaNet-TUPAC-OrigSplit-512s.pth-TUPAC_test-inference_results_boxes.p'\n",
    "\n",
    "F1_values[ident], individ = calculate_F1(databasefile=databasefile, resfile=resfile, hotclass=1, det_thres=optimal_threshold[ident])\n"
   ]
  },
  {
   "cell_type": "code",
   "execution_count": 5,
   "metadata": {},
   "outputs": [
    {
     "name": "stdout",
     "output_type": "stream",
     "text": [
      "Calculating F1 for test set of 34 files : dict_keys(['77_test.tif', '92_test.tif', '100_test.tif', '84_test.tif', '94_test.tif', '98_test.tif', '81_test.tif', '99_test.tif', '90_test.tif', '74_test.tif', '96_test.tif', '75_test.tif', '95_test.tif', '76_test.tif', '93_test.tif', '91_test.tif', '79_test.tif', '82_test.tif', '105_test.tif', '85_test.tif', '80_test.tif', '78_test.tif', '101_test.tif', '83_test.tif', '106_test.tif', '102_test.tif', '87_test.tif', '86_test.tif', '88_test.tif', '104_test.tif', '103_test.tif', '107_test.tif', '97_test.tif', '89_test.tif'])\n",
      "Official count of mitotic figures in DB:  [(2260,)]\n",
      "Overall: \n",
      "F1:  0.5864077669902913\n",
      "Precision: 0.594 \n",
      "Recall: 0.579\n"
     ]
    }
   ],
   "source": [
    "\n",
    "exportCSV(filepath='Results_TUPAC', \n",
    "          resultsfile='results/RetinaNet-TUPAC-OrigSplit-512s.pth-TUPAC_test-inference_results_boxes.p', \n",
    "          threshold=optimal_threshold[ident])\n",
    "F1value, individ_csv =calculate_F1_fromCSV(csv_directory='Results_TUPAC/',databasefile=databasefile)"
   ]
  },
  {
   "cell_type": "markdown",
   "metadata": {},
   "source": [
    "## RetinaNet trained on original TUPAC, inference on set without augmentation"
   ]
  },
  {
   "cell_type": "code",
   "execution_count": 6,
   "metadata": {},
   "outputs": [
    {
     "name": "stdout",
     "output_type": "stream",
     "text": [
      "Optimizing threshold for validation set of 73 files:  01_stitched1.tif,02_stitched1.tif,03_stitched1.tif,04_stitched1.tif,05_stitched1.tif,06_stitched1.tif,07_stitched1.tif,08_stitched1.tif,09_stitched1.tif,10_stitched1.tif,11_stitched1.tif,12_stitched1.tif,13_stitched1.tif,14_stitched1.tif,15_stitched1.tif,16_stitched1.tif,17_stitched1.tif,18_stitched1.tif,19_stitched1.tif,20_stitched1.tif,21_stitched1.tif,22_stitched1.tif,23_stitched1.tif,24.tif,25.tif,26.tif,27.tif,28.tif,29.tif,30.tif,31.tif,32.tif,33.tif,34.tif,35.tif,36.tif,37.tif,38.tif,39.tif,40.tif,41.tif,42.tif,43.tif,44.tif,45.tif,46.tif,47.tif,48.tif,49.tif,50.tif,51.tif,52.tif,53.tif,54.tif,55.tif,56.tif,57.tif,58.tif,59.tif,60.tif,61.tif,62.tif,63.tif,64.tif,65.tif,66.tif,67.tif,68.tif,69.tif,70.tif,71.tif,72.tif,73.tif\n",
      "Best threshold: F1= 0.6579717859994677 Threshold= 0.47000000000000014\n",
      "Calculating F1 for test set of 34 files : dict_keys(['74_test.tif', '75_test.tif', '76_test.tif', '77_test.tif', '78_test.tif', '79_test.tif', '80_test.tif', '81_test.tif', '82_test.tif', '83_test.tif', '84_test.tif', '85_test.tif', '86_test.tif', '87_test.tif', '88_test.tif', '89_test.tif', '90_test.tif', '91_test.tif', '92_test.tif', '93_test.tif', '94_test.tif', '95_test.tif', '96_test.tif', '97_test.tif', '98_test.tif', '99_test.tif', '100_test.tif', '101_test.tif', '102_test.tif', '103_test.tif', '104_test.tif', '105_test.tif', '106_test.tif', '107_test.tif'])\n",
      "Official count of mitotic figures in DB:  [(2131,)]\n",
      "Overall: \n",
      "F1:  0.5892857142857143\n",
      "Precision: 0.614 \n",
      "Recall: 0.567\n"
     ]
    }
   ],
   "source": [
    "databasefile = 'TUPAC_alternativeLabels.sqlite'\n",
    "\n",
    "resfile = f'results/RetinaNet-TUPAC-OrigSplit-512s.pth-TUPAC_trainval_o-inference_results_boxes.p'#\n",
    "ident = f'TUPACOrig_on_AL'\n",
    "\n",
    "optimal_threshold[ident], F1scores, thrs = optimize_threshold(databasefile=databasefile, minthres=0.3, hotclass=1, resfile=resfile)\n",
    "\n",
    "resfile = f'results/RetinaNet-TUPAC-OrigSplit-512s.pth-TUPAC_test-inference_results_boxes.p'#\n",
    "\n",
    "F1_values[ident], individ = calculate_F1(databasefile=databasefile, resfile=resfile, hotclass=1, det_thres=optimal_threshold[ident])\n"
   ]
  },
  {
   "cell_type": "code",
   "execution_count": null,
   "metadata": {},
   "outputs": [],
   "source": []
  },
  {
   "cell_type": "code",
   "execution_count": null,
   "metadata": {},
   "outputs": [],
   "source": []
  }
 ],
 "metadata": {
  "kernelspec": {
   "display_name": "Python 3",
   "language": "python",
   "name": "python3"
  },
  "language_info": {
   "codemirror_mode": {
    "name": "ipython",
    "version": 3
   },
   "file_extension": ".py",
   "mimetype": "text/x-python",
   "name": "python",
   "nbconvert_exporter": "python",
   "pygments_lexer": "ipython3",
   "version": "3.6.9"
  }
 },
 "nbformat": 4,
 "nbformat_minor": 2
}
