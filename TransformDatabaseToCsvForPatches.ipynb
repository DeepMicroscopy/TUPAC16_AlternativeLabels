{
 "cells": [
  {
   "cell_type": "markdown",
   "metadata": {},
   "source": [
    "## Reverse the stitching operation, and provide CSV files for new annotations"
   ]
  },
  {
   "cell_type": "code",
   "execution_count": 1,
   "metadata": {},
   "outputs": [],
   "source": [
    "import pickle\n",
    "IdToGrid = pickle.load(open('TUPACStitchInformation.p','rb'))\n"
   ]
  },
  {
   "cell_type": "code",
   "execution_count": 2,
   "metadata": {},
   "outputs": [],
   "source": [
    "from SlideRunner.dataAccess.database import Database\n",
    "DB = Database().open('TUPAC_alternativeLabels_augmented_training.sqlite')\n"
   ]
  },
  {
   "cell_type": "code",
   "execution_count": 3,
   "metadata": {},
   "outputs": [],
   "source": [
    "import os\n",
    "d = int()\n",
    "for k in range(23):\n",
    "    d='%02d' % (k+1)\n",
    "    suid = DB.findSlideWithFilename(d+'_stitched1.tif', 'stitched/')\n",
    "    DB.loadIntoMemory(suid)\n",
    "    for im in IdToGrid[k+1].keys():\n",
    "        gtannofile = f'TUPAC_AL/mitoses_ground_truth/{d}/{im.replace(\"tif\",\"csv\")}'\n",
    "        os.system(f'mkdir -p TUPAC_AL/mitoses_ground_truth/{d}')\n",
    "        with open(gtannofile,'w') as csvfile:\n",
    "            for annoI in DB.annotations.keys():\n",
    "                anno = DB.annotations[annoI]\n",
    "                x = int(anno.x1-IdToGrid[k+1][im][0])\n",
    "                y = int(anno.y1-IdToGrid[k+1][im][1])\n",
    "                if (anno.agreedClass==1) and (x>=0) and (y>=0) and (x<2000) and (y<2000):\n",
    "                    csvfile.write(f'{y},{x}'+'\\n')   \n",
    "            csvfile.close()"
   ]
  },
  {
   "cell_type": "code",
   "execution_count": 4,
   "metadata": {},
   "outputs": [],
   "source": [
    "import os\n",
    "d = int()\n",
    "for k in range(23):\n",
    "    d='%02d' % (k+1)\n",
    "    suid = DB.findSlideWithFilename(d+'_stitched1.tif', 'stitched/')\n",
    "    DB.loadIntoMemory(suid)\n",
    "    for im in IdToGrid[k+1].keys():\n",
    "        gtannofile = f'TUPAC_AL/nonmitoses_ground_truth/{d}/{im.replace(\"tif\",\"csv\")}'\n",
    "        os.system(f'mkdir -p TUPAC_AL/nonmitoses_ground_truth/{d}')\n",
    "        with open(gtannofile,'w') as csvfile:\n",
    "            for annoI in DB.annotations.keys():\n",
    "                anno = DB.annotations[annoI]\n",
    "                x = int(anno.x1-IdToGrid[k+1][im][0])\n",
    "                y = int(anno.y1-IdToGrid[k+1][im][1])\n",
    "                if (anno.agreedClass==2) and (x>=0) and (y>=0) and (x<2000) and (y<2000):\n",
    "                    csvfile.write(f'{y},{x}'+'\\n')   \n",
    "            csvfile.close()"
   ]
  },
  {
   "cell_type": "code",
   "execution_count": 5,
   "metadata": {},
   "outputs": [],
   "source": [
    "import os\n",
    "import numpy as np\n",
    "d = int()\n",
    "for k in np.arange(23,73):\n",
    "    d='%02d' % (k+1)\n",
    "    suid = DB.findSlideWithFilename(d+'.tif', 'stitched/')\n",
    "    DB.loadIntoMemory(suid)\n",
    "    for im in ['01.tif',]:\n",
    "        gtannofile = f'TUPAC_AL/mitoses_ground_truth/{d}/{im.replace(\"tif\",\"csv\")}'\n",
    "        os.system(f'mkdir -p TUPAC_AL/mitoses_ground_truth/{d}')\n",
    "        with open(gtannofile,'w') as csvfile:\n",
    "            for annoI in DB.annotations.keys():\n",
    "                anno = DB.annotations[annoI]\n",
    "                x = int(anno.x1)\n",
    "                y = int(anno.y1)\n",
    "                if (anno.agreedClass==1):\n",
    "                    csvfile.write(f'{y},{x}'+'\\n')   \n",
    "            csvfile.close()"
   ]
  },
  {
   "cell_type": "code",
   "execution_count": 6,
   "metadata": {},
   "outputs": [],
   "source": [
    "import os\n",
    "import numpy as np\n",
    "d = int()\n",
    "for k in np.arange(23,73):\n",
    "    d='%02d' % (k+1)\n",
    "    suid = DB.findSlideWithFilename(d+'.tif', 'stitched/')\n",
    "    DB.loadIntoMemory(suid)\n",
    "    for im in ['01.tif',]:\n",
    "        gtannofile = f'TUPAC_AL/nonmitoses_ground_truth/{d}/{im.replace(\"tif\",\"csv\")}'\n",
    "        os.system(f'mkdir -p TUPAC_AL/nonmitoses_ground_truth/{d}')\n",
    "        with open(gtannofile,'w') as csvfile:\n",
    "            for annoI in DB.annotations.keys():\n",
    "                anno = DB.annotations[annoI]\n",
    "                x = int(anno.x1)\n",
    "                y = int(anno.y1)\n",
    "                if (anno.agreedClass==2):\n",
    "                    csvfile.write(f'{y},{x}'+'\\n')   \n",
    "            csvfile.close()\n"
   ]
  }
 ],
 "metadata": {
  "kernelspec": {
   "display_name": "Python 3",
   "language": "python",
   "name": "python3"
  },
  "language_info": {
   "codemirror_mode": {
    "name": "ipython",
    "version": 3
   },
   "file_extension": ".py",
   "mimetype": "text/x-python",
   "name": "python",
   "nbconvert_exporter": "python",
   "pygments_lexer": "ipython3",
   "version": "3.6.9"
  }
 },
 "nbformat": 4,
 "nbformat_minor": 2
}
